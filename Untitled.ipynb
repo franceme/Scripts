{
 "cells": [
  {
   "cell_type": "code",
   "execution_count": 1,
   "id": "ff4581d7-6959-48f0-ab19-dd3d74c6b622",
   "metadata": {
    "collapsed": true,
    "jupyter": {
     "outputs_hidden": true,
     "source_hidden": true
    },
    "tags": []
   },
   "outputs": [
    {
     "name": "stderr",
     "output_type": "stream",
     "text": [
      "DEPRECATION: Configuring installation scheme with distutils config files is deprecated and will no longer work in the near future. If you are using a Homebrew or Linuxbrew Python, please see discussion at https://github.com/Homebrew/homebrew-core/issues/76621\n"
     ]
    },
    {
     "name": "stdout",
     "output_type": "stream",
     "text": [
      "Requirement already satisfied: PyGithub in /usr/local/lib/python3.9/site-packages (1.55)\n",
      "Requirement already satisfied: deprecated in /usr/local/lib/python3.9/site-packages (from PyGithub) (1.2.12)\n",
      "Requirement already satisfied: pynacl>=1.4.0 in /usr/local/lib/python3.9/site-packages (from PyGithub) (1.5.0)\n",
      "Requirement already satisfied: pyjwt>=2.0 in /usr/local/lib/python3.9/site-packages (from PyGithub) (2.0.1)\n",
      "Requirement already satisfied: requests>=2.14.0 in /usr/local/lib/python3.9/site-packages (from PyGithub) (2.26.0)\n",
      "Requirement already satisfied: cffi>=1.4.1 in /usr/local/lib/python3.9/site-packages (from pynacl>=1.4.0->PyGithub) (1.14.6)\n",
      "Requirement already satisfied: charset-normalizer~=2.0.0 in /usr/local/lib/python3.9/site-packages (from requests>=2.14.0->PyGithub) (2.0.3)\n",
      "Requirement already satisfied: urllib3<1.27,>=1.21.1 in /usr/local/lib/python3.9/site-packages (from requests>=2.14.0->PyGithub) (1.26.6)\n",
      "Requirement already satisfied: certifi>=2017.4.17 in /usr/local/lib/python3.9/site-packages (from requests>=2.14.0->PyGithub) (2021.5.30)\n",
      "Requirement already satisfied: idna<4,>=2.5 in /usr/local/lib/python3.9/site-packages (from requests>=2.14.0->PyGithub) (3.2)\n",
      "Requirement already satisfied: wrapt<2,>=1.10 in /usr/local/lib/python3.9/site-packages (from deprecated->PyGithub) (1.12.1)\n",
      "Requirement already satisfied: pycparser in /usr/local/lib/python3.9/site-packages (from cffi>=1.4.1->pynacl>=1.4.0->PyGithub) (2.20)\n"
     ]
    },
    {
     "name": "stderr",
     "output_type": "stream",
     "text": [
      "DEPRECATION: Configuring installation scheme with distutils config files is deprecated and will no longer work in the near future. If you are using a Homebrew or Linuxbrew Python, please see discussion at https://github.com/Homebrew/homebrew-core/issues/76621\n",
      "WARNING: You are using pip version 21.3.1; however, version 22.0.3 is available.\n",
      "You should consider upgrading via the '/usr/local/opt/python@3.9/bin/python3.9 -m pip install --upgrade pip' command.\n"
     ]
    }
   ],
   "source": [
    "import os,sys;instyll = lambda string:os.system(f\"{sys.executable} -m pip install --upgrade {string}\")\n",
    "\n",
    "instyll(\"PyGithub\")\n",
    "\n",
    "import funbelts as ut"
   ]
  },
  {
   "cell_type": "code",
   "execution_count": 2,
   "id": "ca8b478b-b7f8-4057-8770-3d7d8f46896e",
   "metadata": {},
   "outputs": [
    {
     "name": "stdout",
     "output_type": "stream",
     "text": [
      "file://repo\n"
     ]
    },
    {
     "name": "stderr",
     "output_type": "stream",
     "text": [
      "rm: repo: No such file or directory\n"
     ]
    }
   ],
   "source": [
    "with ut.GRepo(\"repo\",\"https://github.com/owner/repo\",\"v1\",\"hash\", local_dir=True) as repo:\n",
    "    print(repo.url)"
   ]
  },
  {
   "cell_type": "code",
   "execution_count": 4,
   "id": "c0c25660-1c73-4e3e-8528-a47a34720f66",
   "metadata": {},
   "outputs": [],
   "source": [
    "with ut.excelwriter(\"test\") as writer:\n",
    "    writer.add_frame(\"SystemInformation\", ut.get_system_info())"
   ]
  }
 ],
 "metadata": {
  "kernelspec": {
   "display_name": "Python 3 (ipykernel)",
   "language": "python",
   "name": "python3"
  },
  "language_info": {
   "codemirror_mode": {
    "name": "ipython",
    "version": 3
   },
   "file_extension": ".py",
   "mimetype": "text/x-python",
   "name": "python",
   "nbconvert_exporter": "python",
   "pygments_lexer": "ipython3",
   "version": "3.9.9"
  }
 },
 "nbformat": 4,
 "nbformat_minor": 5
}
