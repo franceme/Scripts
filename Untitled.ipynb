{
 "cells": [
  {
   "cell_type": "code",
   "execution_count": null,
   "id": "ff4581d7-6959-48f0-ab19-dd3d74c6b622",
   "metadata": {
    "jupyter": {
     "source_hidden": true
    },
    "tags": []
   },
   "outputs": [],
   "source": [
    "import os,sys;instyll = lambda string:os.system(f\"{sys.executable} -m pip install --upgrade {string}\")\n",
    "\n",
    "instyll(\"PyGithub\")\n",
    "\n",
    "import funbelts as ut"
   ]
  },
  {
   "cell_type": "code",
   "execution_count": null,
   "id": "ca8b478b-b7f8-4057-8770-3d7d8f46896e",
   "metadata": {},
   "outputs": [],
   "source": [
    "with ut.GRepo(\"repo\",\"https://github.com/owner/repo\",\"v1\",\"hash\", local_dir=True) as repo:\n",
    "    print(repo.url)"
   ]
  }
 ],
 "metadata": {
  "kernelspec": {
   "display_name": "Python 3 (ipykernel)",
   "language": "python",
   "name": "python3"
  },
  "language_info": {
   "codemirror_mode": {
    "name": "ipython",
    "version": 3
   },
   "file_extension": ".py",
   "mimetype": "text/x-python",
   "name": "python",
   "nbconvert_exporter": "python",
   "pygments_lexer": "ipython3",
   "version": "3.8.12"
  }
 },
 "nbformat": 4,
 "nbformat_minor": 5
}
