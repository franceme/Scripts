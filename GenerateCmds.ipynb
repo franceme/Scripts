{
 "cells": [
  {
   "cell_type": "code",
   "execution_count": 7,
   "id": "abef2b30-9e1f-4498-a7d8-0f7efd4e8af7",
   "metadata": {},
   "outputs": [],
   "source": [
    "def gen_cmds(key,value):\n",
    "    output = []\n",
    "\n",
    "    output += [f\"\\\\newcommand\\\\{key}{{ {value} }}\"]\n",
    "    output += [f\"\\\\WithSuffix\\\\newcommand\\\\{key}*{{ \\\\{key} \\espace}}\"]\n",
    "    output += [f\"\\\\newcommand\\\\{key.title()}{{ {value.title()} }}\"]\n",
    "    output += [f\"\\\\WithSuffix\\\\newcommand\\\\{key.title()}*{{ \\\\{key.title()} \\espace}}\"]\n",
    "\n",
    "    return '\\n'.join(output)"
   ]
  },
  {
   "cell_type": "code",
   "execution_count": 6,
   "id": "237e14cf-f53e-46af-9d4b-92e0f81ea895",
   "metadata": {},
   "outputs": [],
   "source": [
    "ityms = {\n",
    "    'quas':'quasi-static'\n",
    "}"
   ]
  },
  {
   "cell_type": "code",
   "execution_count": 8,
   "id": "bc7e5015-6861-48fc-bbe1-26014723d600",
   "metadata": {},
   "outputs": [
    {
     "name": "stdout",
     "output_type": "stream",
     "text": [
      "\\newcommand\\quas{ quasi-static }\n",
      "\\WithSuffix\\newcommand\\quas*{ \\quas \\espace}\n",
      "\\newcommand\\Quas{ Quasi-Static }\n",
      "\\WithSuffix\\newcommand\\Quas*{ \\Quas \\espace}\n"
     ]
    }
   ],
   "source": [
    "for key,value in ityms.items():\n",
    "    print(gen_cmds(key,value))"
   ]
  }
 ],
 "metadata": {
  "kernelspec": {
   "display_name": "Python 3 (ipykernel)",
   "language": "python",
   "name": "python3"
  },
  "language_info": {
   "codemirror_mode": {
    "name": "ipython",
    "version": 3
   },
   "file_extension": ".py",
   "mimetype": "text/x-python",
   "name": "python",
   "nbconvert_exporter": "python",
   "pygments_lexer": "ipython3",
   "version": "3.9.10"
  }
 },
 "nbformat": 4,
 "nbformat_minor": 5
}
